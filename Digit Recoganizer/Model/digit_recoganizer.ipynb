{
 "cells": [
  {
   "cell_type": "code",
   "execution_count": 2,
   "metadata": {},
   "outputs": [],
   "source": [
    "from tensorflow.keras.datasets import mnist\n",
    "import matplotlib.pyplot as plt\n",
    "import numpy as np\n",
    "import tensorflow as tf\n"
   ]
  },
  {
   "cell_type": "code",
   "execution_count": 4,
   "metadata": {},
   "outputs": [],
   "source": [
    "(X_train,y_train),(X_test,y_test)=mnist.load_data()"
   ]
  },
  {
   "cell_type": "code",
   "execution_count": 6,
   "metadata": {},
   "outputs": [
    {
     "data": {
      "text/plain": [
       "array([[[0, 0, 0, ..., 0, 0, 0],\n",
       "        [0, 0, 0, ..., 0, 0, 0],\n",
       "        [0, 0, 0, ..., 0, 0, 0],\n",
       "        ...,\n",
       "        [0, 0, 0, ..., 0, 0, 0],\n",
       "        [0, 0, 0, ..., 0, 0, 0],\n",
       "        [0, 0, 0, ..., 0, 0, 0]],\n",
       "\n",
       "       [[0, 0, 0, ..., 0, 0, 0],\n",
       "        [0, 0, 0, ..., 0, 0, 0],\n",
       "        [0, 0, 0, ..., 0, 0, 0],\n",
       "        ...,\n",
       "        [0, 0, 0, ..., 0, 0, 0],\n",
       "        [0, 0, 0, ..., 0, 0, 0],\n",
       "        [0, 0, 0, ..., 0, 0, 0]],\n",
       "\n",
       "       [[0, 0, 0, ..., 0, 0, 0],\n",
       "        [0, 0, 0, ..., 0, 0, 0],\n",
       "        [0, 0, 0, ..., 0, 0, 0],\n",
       "        ...,\n",
       "        [0, 0, 0, ..., 0, 0, 0],\n",
       "        [0, 0, 0, ..., 0, 0, 0],\n",
       "        [0, 0, 0, ..., 0, 0, 0]],\n",
       "\n",
       "       [[0, 0, 0, ..., 0, 0, 0],\n",
       "        [0, 0, 0, ..., 0, 0, 0],\n",
       "        [0, 0, 0, ..., 0, 0, 0],\n",
       "        ...,\n",
       "        [0, 0, 0, ..., 0, 0, 0],\n",
       "        [0, 0, 0, ..., 0, 0, 0],\n",
       "        [0, 0, 0, ..., 0, 0, 0]],\n",
       "\n",
       "       [[0, 0, 0, ..., 0, 0, 0],\n",
       "        [0, 0, 0, ..., 0, 0, 0],\n",
       "        [0, 0, 0, ..., 0, 0, 0],\n",
       "        ...,\n",
       "        [0, 0, 0, ..., 0, 0, 0],\n",
       "        [0, 0, 0, ..., 0, 0, 0],\n",
       "        [0, 0, 0, ..., 0, 0, 0]]], dtype=uint8)"
      ]
     },
     "execution_count": 6,
     "metadata": {},
     "output_type": "execute_result"
    }
   ],
   "source": [
    "X_train[:5]"
   ]
  },
  {
   "cell_type": "code",
   "execution_count": 7,
   "metadata": {},
   "outputs": [
    {
     "data": {
      "text/plain": [
       "(60000, 28, 28)"
      ]
     },
     "execution_count": 7,
     "metadata": {},
     "output_type": "execute_result"
    }
   ],
   "source": [
    "X_train.shape"
   ]
  },
  {
   "cell_type": "code",
   "execution_count": 8,
   "metadata": {},
   "outputs": [
    {
     "data": {
      "image/png": "[encoded data removed]",
      "text/plain": [
       "<Figure size 432x288 with 1 Axes>"
      ]
     },
     "metadata": {
      "needs_background": "light"
     },
     "output_type": "display_data"
    }
   ],
   "source": [
    "plt.imshow(X_train[3],cmap=plt.get_cmap('gray'))\n",
    "plt.show()"
   ]
  },
  {
   "cell_type": "code",
   "execution_count": 9,
   "metadata": {
    "scrolled": true
   },
   "outputs": [
    {
     "data": {
      "image/png": "[encoded data removed]",
      "text/plain": [
       "<Figure size 432x288 with 1 Axes>"
      ]
     },
     "metadata": {
      "needs_background": "light"
     },
     "output_type": "display_data"
    }
   ],
   "source": [
    "plt.imshow(X_train[6],cmap=plt.get_cmap('gray'))\n",
    "plt.show()"
   ]
  },
  {
   "cell_type": "code",
   "execution_count": 10,
   "metadata": {},
   "outputs": [],
   "source": [
    "X_train=X_train/255\n",
    "X_test=X_test/255"
   ]
  },
  {
   "cell_type": "code",
   "execution_count": 11,
   "metadata": {},
   "outputs": [
    {
     "data": {
      "text/plain": [
       "5"
      ]
     },
     "execution_count": 11,
     "metadata": {},
     "output_type": "execute_result"
    }
   ],
   "source": [
    "y_train[0]"
   ]
  },
  {
   "cell_type": "code",
   "execution_count": 12,
   "metadata": {},
   "outputs": [],
   "source": [
    "y_train=tf.keras.utils.to_categorical(y_train, num_classes=10)\n",
    "y_test=tf.keras.utils.to_categorical(y_test, num_classes=10)"
   ]
  },
  {
   "cell_type": "code",
   "execution_count": 13,
   "metadata": {},
   "outputs": [
    {
     "data": {
      "text/plain": [
       "array([0., 0., 0., 0., 0., 1., 0., 0., 0., 0.], dtype=float32)"
      ]
     },
     "execution_count": 13,
     "metadata": {},
     "output_type": "execute_result"
    }
   ],
   "source": [
    "y_train[0]"
   ]
  },
  {
   "cell_type": "code",
   "execution_count": 14,
   "metadata": {},
   "outputs": [],
   "source": [
    "X_train=X_train.reshape((X_train.shape[0],28,28,1))"
   ]
  },
  {
   "cell_type": "code",
   "execution_count": 15,
   "metadata": {},
   "outputs": [
    {
     "data": {
      "text/plain": [
       "(60000, 28, 28, 1)"
      ]
     },
     "execution_count": 15,
     "metadata": {},
     "output_type": "execute_result"
    }
   ],
   "source": [
    "X_train.shape"
   ]
  },
  {
   "cell_type": "code",
   "execution_count": 16,
   "metadata": {},
   "outputs": [],
   "source": [
    "X_test=X_test.reshape((X_test.shape[0],28,28,1))"
   ]
  },
  {
   "cell_type": "code",
   "execution_count": 20,
   "metadata": {},
   "outputs": [],
   "source": [
    "model=tf.keras.Sequential([\n",
    "    tf.keras.layers.Conv2D(filters=28,kernel_size=(3,3),activation='relu',input_shape=(28,28,1)),\n",
    "    tf.keras.layers.MaxPool2D((2,2)),\n",
    "    tf.keras.layers.Conv2D(filters=28,kernel_size=(3,3),activation='relu'),\n",
    "    tf.keras.layers.MaxPool2D((2,2)),\n",
    "    \n",
    "    #dense\n",
    "    tf.keras.layers.Flatten(),\n",
    "    tf.keras.layers.Dense(56,activation='relu'),\n",
    "    tf.keras.layers.Dense(10,activation='softmax')\n",
    "])"
   ]
  },
  {
   "cell_type": "code",
   "execution_count": 23,
   "metadata": {},
   "outputs": [],
   "source": [
    "model.compile(optimizer='adam',loss='categorical_crossentropy',metrics=['accuracy'])\n"
   ]
  },
  {
   "cell_type": "code",
   "execution_count": 24,
   "metadata": {},
   "outputs": [
    {
     "name": "stdout",
     "output_type": "stream",
     "text": [
      "Epoch 1/10\n",
      "1875/1875 [==============================] - 107s 7ms/step - loss: 0.1692 - accuracy: 0.9498\n",
      "Epoch 2/10\n",
      "1875/1875 [==============================] - 15s 8ms/step - loss: 0.0551 - accuracy: 0.9832\n",
      "Epoch 3/10\n",
      "1875/1875 [==============================] - 13s 7ms/step - loss: 0.0393 - accuracy: 0.9878\n",
      "Epoch 4/10\n",
      "1875/1875 [==============================] - 16s 9ms/step - loss: 0.0289 - accuracy: 0.9911\n",
      "Epoch 5/10\n",
      "1875/1875 [==============================] - 13s 7ms/step - loss: 0.0238 - accuracy: 0.9926\n",
      "Epoch 6/10\n",
      "1875/1875 [==============================] - 14s 8ms/step - loss: 0.0188 - accuracy: 0.9939\n",
      "Epoch 7/10\n",
      "1875/1875 [==============================] - 13s 7ms/step - loss: 0.0155 - accuracy: 0.9954\n",
      "Epoch 8/10\n",
      "1875/1875 [==============================] - 13s 7ms/step - loss: 0.0125 - accuracy: 0.9960\n",
      "Epoch 9/10\n",
      "1875/1875 [==============================] - 13s 7ms/step - loss: 0.0109 - accuracy: 0.9962\n",
      "Epoch 10/10\n",
      "1875/1875 [==============================] - 15s 8ms/step - loss: 0.0101 - accuracy: 0.9966\n"
     ]
    },
    {
     "data": {
      "text/plain": [
       "<keras.callbacks.History at 0x1a077733310>"
      ]
     },
     "execution_count": 24,
     "metadata": {},
     "output_type": "execute_result"
    }
   ],
   "source": [
    "model.fit(X_train,y_train,epochs=10)"
   ]
  },
  {
   "cell_type": "code",
   "execution_count": 26,
   "metadata": {},
   "outputs": [
    {
     "name": "stdout",
     "output_type": "stream",
     "text": [
      "313/313 [==============================] - 4s 12ms/step - loss: 0.0342 - accuracy: 0.9906\n"
     ]
    },
    {
     "data": {
      "text/plain": [
       "[0.03416222706437111, 0.9905999898910522]"
      ]
     },
     "execution_count": 26,
     "metadata": {},
     "output_type": "execute_result"
    }
   ],
   "source": [
    "model.evaluate(X_test,y_test)"
   ]
  },
  {
   "cell_type": "code",
   "execution_count": 27,
   "metadata": {},
   "outputs": [],
   "source": [
    "model.save(\"cnnDigitsModel.h5\")"
   ]
  },
  {
   "cell_type": "code",
   "execution_count": 1,
   "metadata": {
    "scrolled": false
   },
   "outputs": [
    {
     "name": "stdout",
     "output_type": "stream",
     "text": [
      "Requirement already satisfied: tensorflowjs in c:\\python38\\lib\\site-packages (4.6.0)\n",
      "Collecting flax<0.6.3,>=0.6.2 (from tensorflowjs)\n",
      "  Using cached flax-0.6.2-py3-none-any.whl (189 kB)\n",
      "Collecting importlib_resources>=5.9.0 (from tensorflowjs)\n",
      "  Using cached importlib_resources-5.12.0-py3-none-any.whl (36 kB)\n",
      "Collecting jax>=0.3.16 (from tensorflowjs)\n",
      "  Using cached jax-0.4.10.tar.gz (1.3 MB)\n",
      "  Installing build dependencies: started\n",
      "  Installing build dependencies: finished with status 'done'\n",
      "  Getting requirements to build wheel: started\n",
      "  Getting requirements to build wheel: finished with status 'done'\n",
      "  Preparing metadata (pyproject.toml): started\n",
      "  Preparing metadata (pyproject.toml): finished with status 'done'\n",
      "Collecting tensorflow<3,>=2.12.0 (from tensorflowjs)\n",
      "  Using cached tensorflow-2.12.0-cp38-cp38-win_amd64.whl (1.9 kB)\n",
      "INFO: pip is looking at multiple versions of tensorflowjs to determine which version is compatible with other requirements. This could take a while.\n",
      "Collecting tensorflowjs\n",
      "  Using cached tensorflowjs-4.5.0-py3-none-any.whl (85 kB)\n",
      "  Using cached tensorflowjs-4.4.0-py3-none-any.whl (85 kB)\n",
      "Collecting flax>=0.6.2 (from tensorflowjs)\n",
      "  Using cached flax-0.6.10-py3-none-any.whl (226 kB)\n",
      "Requirement already satisfied: protobuf<3.20,>=3.9.2 in c:\\python38\\lib\\site-packages (from tensorflowjs) (3.18.0)\n",
      "Collecting tensorflowjs\n",
      "  Using cached tensorflowjs-4.3.0-py3-none-any.whl (85 kB)\n",
      "  Using cached tensorflowjs-4.2.0-py3-none-any.whl (84 kB)\n",
      "  Using cached tensorflowjs-4.1.0-py3-none-any.whl (84 kB)\n",
      "  Using cached tensorflowjs-4.0.0-py3-none-any.whl (83 kB)\n",
      "  Using cached tensorflowjs-3.21.0-py3-none-any.whl (81 kB)\n",
      "Requirement already satisfied: tensorflow<3,>=2.1.0 in c:\\python38\\lib\\site-packages (from tensorflowjs) (2.6.0)\n",
      "Requirement already satisfied: six<2,>=1.12.0 in c:\\python38\\lib\\site-packages (from tensorflowjs) (1.15.0)\n"
     ]
    },
    {
     "name": "stderr",
     "output_type": "stream",
     "text": [
      "ERROR: Cannot install flax because these package versions have conflicting dependencies.\n",
      "ERROR: ResolutionImpossible: for help visit https://pip.pypa.io/en/latest/topics/dependency-resolution/#dealing-with-dependency-conflicts\n"
     ]
    },
    {
     "name": "stdout",
     "output_type": "stream",
     "text": [
      "Collecting tensorflow-hub<0.13,>=0.7.0 (from tensorflowjs)\n",
      "  Using cached tensorflow_hub-0.12.0-py2.py3-none-any.whl (108 kB)\n",
      "Collecting packaging~=20.9 (from tensorflowjs)\n",
      "  Using cached packaging-20.9-py2.py3-none-any.whl (40 kB)\n",
      "Requirement already satisfied: numpy>=1.12 in c:\\python38\\lib\\site-packages (from flax>=0.6.2->tensorflowjs) (1.23.1)\n",
      "Collecting msgpack (from flax>=0.6.2->tensorflowjs)\n",
      "  Using cached msgpack-1.0.5-cp38-cp38-win_amd64.whl (62 kB)\n",
      "Collecting optax (from flax>=0.6.2->tensorflowjs)\n",
      "  Using cached optax-0.1.5-py3-none-any.whl (164 kB)\n",
      "Collecting orbax-checkpoint (from flax>=0.6.2->tensorflowjs)\n",
      "  Using cached orbax_checkpoint-0.2.3-py3-none-any.whl (81 kB)\n",
      "Collecting tensorstore (from flax>=0.6.2->tensorflowjs)\n",
      "  Using cached tensorstore-0.1.36-cp38-cp38-win_amd64.whl (8.4 MB)\n",
      "Collecting rich>=11.1 (from flax>=0.6.2->tensorflowjs)\n",
      "  Using cached rich-13.3.5-py3-none-any.whl (238 kB)\n",
      "Requirement already satisfied: typing-extensions>=4.1.1 in c:\\python38\\lib\\site-packages (from flax>=0.6.2->tensorflowjs) (4.4.0)\n",
      "Requirement already satisfied: PyYAML>=5.4.1 in c:\\python38\\lib\\site-packages (from flax>=0.6.2->tensorflowjs) (6.0)\n",
      "Requirement already satisfied: zipp>=3.1.0 in c:\\python38\\lib\\site-packages (from importlib_resources>=5.9.0->tensorflowjs) (3.15.0)\n",
      "Collecting ml-dtypes>=0.1.0 (from jax>=0.3.16->tensorflowjs)\n",
      "  Using cached ml_dtypes-0.1.0-cp38-cp38-win_amd64.whl (120 kB)\n",
      "Requirement already satisfied: opt-einsum in c:\\python38\\lib\\site-packages (from jax>=0.3.16->tensorflowjs) (3.3.0)\n",
      "Requirement already satisfied: scipy>=1.7 in c:\\python38\\lib\\site-packages (from jax>=0.3.16->tensorflowjs) (1.10.1)\n",
      "Requirement already satisfied: pyparsing>=2.0.2 in c:\\python38\\lib\\site-packages (from packaging~=20.9->tensorflowjs) (2.4.7)\n",
      "INFO: pip is looking at multiple versions of tensorflow to determine which version is compatible with other requirements. This could take a while.\n",
      "Collecting tensorflow-intel==2.12.0 (from tensorflow<3,>=2.12.0->tensorflowjs)\n",
      "  Using cached tensorflow_intel-2.12.0-cp38-cp38-win_amd64.whl (272.8 MB)\n",
      "Requirement already satisfied: absl-py>=1.0.0 in c:\\python38\\lib\\site-packages (from tensorflow-intel==2.12.0->tensorflow<3,>=2.12.0->tensorflowjs) (1.3.0)\n",
      "Requirement already satisfied: astunparse>=1.6.0 in c:\\python38\\lib\\site-packages (from tensorflow-intel==2.12.0->tensorflow<3,>=2.12.0->tensorflowjs) (1.6.3)\n",
      "Requirement already satisfied: flatbuffers>=2.0 in c:\\python38\\lib\\site-packages (from tensorflow-intel==2.12.0->tensorflow<3,>=2.12.0->tensorflowjs) (23.1.4)\n",
      "Requirement already satisfied: gast<=0.4.0,>=0.2.1 in c:\\python38\\lib\\site-packages (from tensorflow-intel==2.12.0->tensorflow<3,>=2.12.0->tensorflowjs) (0.4.0)\n",
      "Requirement already satisfied: google-pasta>=0.1.1 in c:\\python38\\lib\\site-packages (from tensorflow-intel==2.12.0->tensorflow<3,>=2.12.0->tensorflowjs) (0.2.0)\n",
      "Requirement already satisfied: h5py>=2.9.0 in c:\\python38\\lib\\site-packages (from tensorflow-intel==2.12.0->tensorflow<3,>=2.12.0->tensorflowjs) (3.1.0)\n",
      "Requirement already satisfied: libclang>=13.0.0 in c:\\python38\\lib\\site-packages (from tensorflow-intel==2.12.0->tensorflow<3,>=2.12.0->tensorflowjs) (15.0.6.1)\n",
      "INFO: pip is looking at multiple versions of tensorflow-intel to determine which version is compatible with other requirements. This could take a while.\n",
      "Collecting tensorflow<3,>=2.1.0 (from tensorflowjs)\n",
      "  Using cached tensorflow-2.11.1-cp38-cp38-win_amd64.whl (1.9 kB)\n",
      "Collecting tensorflow-intel==2.11.1 (from tensorflow<3,>=2.1.0->tensorflowjs)\n",
      "  Using cached tensorflow_intel-2.11.1-cp38-cp38-win_amd64.whl (266.3 MB)\n",
      "Requirement already satisfied: setuptools in c:\\python38\\lib\\site-packages (from tensorflow-intel==2.11.1->tensorflow<3,>=2.1.0->tensorflowjs) (41.2.0)\n",
      "Requirement already satisfied: termcolor>=1.1.0 in c:\\python38\\lib\\site-packages (from tensorflow-intel==2.11.1->tensorflow<3,>=2.1.0->tensorflowjs) (1.1.0)\n",
      "Requirement already satisfied: wrapt>=1.11.0 in c:\\users\\ritik\\appdata\\roaming\\python\\python38\\site-packages (from tensorflow-intel==2.11.1->tensorflow<3,>=2.1.0->tensorflowjs) (1.12.1)\n",
      "Requirement already satisfied: grpcio<2.0,>=1.24.3 in c:\\python38\\lib\\site-packages (from tensorflow-intel==2.11.1->tensorflow<3,>=2.1.0->tensorflowjs) (1.40.0)\n",
      "Collecting tensorboard<2.12,>=2.11 (from tensorflow-intel==2.11.1->tensorflow<3,>=2.1.0->tensorflowjs)\n",
      "  Using cached tensorboard-2.11.2-py3-none-any.whl (6.0 MB)\n",
      "Collecting tensorflow-estimator<2.12,>=2.11.0 (from tensorflow-intel==2.11.1->tensorflow<3,>=2.1.0->tensorflowjs)\n",
      "  Using cached tensorflow_estimator-2.11.0-py2.py3-none-any.whl (439 kB)\n",
      "Collecting keras<2.12,>=2.11.0 (from tensorflow-intel==2.11.1->tensorflow<3,>=2.1.0->tensorflowjs)\n",
      "  Using cached keras-2.11.0-py2.py3-none-any.whl (1.7 MB)\n",
      "Requirement already satisfied: tensorflow-io-gcs-filesystem>=0.23.1 in c:\\python38\\lib\\site-packages (from tensorflow-intel==2.11.1->tensorflow<3,>=2.1.0->tensorflowjs) (0.29.0)\n",
      "Collecting markdown-it-py<3.0.0,>=2.2.0 (from rich>=11.1->flax>=0.6.2->tensorflowjs)\n",
      "  Using cached markdown_it_py-2.2.0-py3-none-any.whl (84 kB)\n",
      "Collecting pygments<3.0.0,>=2.13.0 (from rich>=11.1->flax>=0.6.2->tensorflowjs)\n",
      "  Using cached Pygments-2.15.1-py3-none-any.whl (1.1 MB)\n",
      "Collecting chex>=0.1.5 (from optax->flax>=0.6.2->tensorflowjs)\n",
      "  Using cached chex-0.1.7-py3-none-any.whl (89 kB)\n",
      "INFO: pip is looking at multiple versions of optax to determine which version is compatible with other requirements. This could take a while.\n",
      "Collecting optax (from flax>=0.6.2->tensorflowjs)\n",
      "  Using cached optax-0.1.4-py3-none-any.whl (154 kB)\n",
      "  Using cached optax-0.1.3-py3-none-any.whl (145 kB)\n",
      "  Using cached optax-0.1.2-py3-none-any.whl (140 kB)\n",
      "  Using cached optax-0.1.1-py3-none-any.whl (136 kB)\n",
      "  Using cached optax-0.1.0-py3-none-any.whl (126 kB)\n",
      "  Using cached optax-0.0.91-py3-none-any.whl (126 kB)\n",
      "  Using cached optax-0.0.9-py3-none-any.whl (118 kB)\n",
      "INFO: pip is looking at multiple versions of optax to determine which version is compatible with other requirements. This could take a while.\n",
      "  Using cached optax-0.0.8-py3-none-any.whl (113 kB)\n",
      "  Using cached optax-0.0.6-py3-none-any.whl (96 kB)\n",
      "  Using cached optax-0.0.5-py3-none-any.whl (89 kB)\n",
      "  Using cached optax-0.0.3-py3-none-any.whl (73 kB)\n",
      "  Using cached optax-0.0.2-py3-none-any.whl (54 kB)\n",
      "INFO: This is taking longer than usual. You might need to provide the dependency resolver with stricter constraints to reduce runtime. See https://pip.pypa.io/warnings/backtracking for guidance. If you want to abort this run, press Ctrl + C.\n",
      "  Using cached optax-0.0.1-py3-none-any.whl (49 kB)\n",
      "Collecting flax>=0.5.3 (from tensorflowjs)\n",
      "  Using cached flax-0.6.9-py3-none-any.whl (226 kB)\n",
      "  Using cached flax-0.6.8-py3-none-any.whl (216 kB)\n",
      "Collecting orbax (from flax>=0.5.3->tensorflowjs)\n",
      "  Using cached orbax-0.1.7-py3-none-any.whl (77 kB)\n",
      "Collecting flax>=0.5.3 (from tensorflowjs)\n",
      "  Using cached flax-0.6.7-py3-none-any.whl (214 kB)\n",
      "  Using cached flax-0.6.6-py3-none-any.whl (210 kB)\n",
      "Requirement already satisfied: matplotlib in c:\\python38\\lib\\site-packages (from flax>=0.5.3->tensorflowjs) (3.3.3)\n",
      "  Using cached flax-0.6.4-py3-none-any.whl (204 kB)\n",
      "  Using cached flax-0.6.3-py3-none-any.whl (197 kB)\n",
      "  Using cached flax-0.6.1-py3-none-any.whl (185 kB)\n",
      "  Using cached flax-0.6.0-py3-none-any.whl (180 kB)\n",
      "Collecting rich~=11.1 (from flax>=0.5.3->tensorflowjs)\n",
      "  Using cached rich-11.2.0-py3-none-any.whl (217 kB)\n",
      "Collecting flax>=0.5.3 (from tensorflowjs)\n",
      "  Using cached flax-0.5.3-py3-none-any.whl (202 kB)\n",
      "\n",
      "The conflict is caused by:\n",
      "    optax 0.1.5 depends on jaxlib>=0.1.37\n",
      "    optax 0.1.4 depends on jaxlib>=0.1.37\n",
      "    optax 0.1.3 depends on jaxlib>=0.1.37\n",
      "    optax 0.1.2 depends on jaxlib>=0.1.37\n",
      "    optax 0.1.1 depends on jaxlib>=0.1.37\n",
      "    optax 0.1.0 depends on jaxlib>=0.1.37\n",
      "    optax 0.0.91 depends on jaxlib>=0.1.37\n",
      "    optax 0.0.9 depends on jaxlib>=0.1.37\n",
      "    optax 0.0.8 depends on jaxlib>=0.1.37\n",
      "    optax 0.0.6 depends on jaxlib>=0.1.37\n",
      "    optax 0.0.5 depends on jaxlib>=0.1.37\n",
      "    optax 0.0.3 depends on jaxlib>=0.1.37\n",
      "    optax 0.0.2 depends on jaxlib>=0.1.37\n",
      "    optax 0.0.1 depends on jaxlib>=0.1.37\n",
      "\n",
      "To fix this you could try to:\n",
      "1. loosen the range of package versions you've specified\n",
      "2. remove package versions to allow pip attempt to solve the dependency conflict\n",
      "\n"
     ]
    }
   ],
   "source": [
    "!pip install tensorflowjs"
   ]
  },
  {
   "cell_type": "code",
   "execution_count": 32,
   "metadata": {},
   "outputs": [
    {
     "name": "stderr",
     "output_type": "stream",
     "text": [
      "ERROR: Could not find a version that satisfies the requirement tensorflow_decision_forests (from versions: none)\n",
      "ERROR: No matching distribution found for tensorflow_decision_forests\n"
     ]
    }
   ],
   "source": []
  },
  {
   "cell_type": "code",
   "execution_count": 2,
   "metadata": {
    "scrolled": true
   },
   "outputs": [
    {
     "name": "stderr",
     "output_type": "stream",
     "text": [
      "Traceback (most recent call last):\n",
      "  File \"C:\\Python38\\lib\\runpy.py\", line 193, in _run_module_as_main\n",
      "    return _run_code(code, main_globals, None,\n",
      "  File \"C:\\Python38\\lib\\runpy.py\", line 86, in _run_code\n",
      "    exec(code, run_globals)\n",
      "  File \"C:\\Python38\\Scripts\\tensorflowjs_converter.exe\\__main__.py\", line 4, in <module>\n",
      "  File \"C:\\Python38\\lib\\site-packages\\tensorflowjs\\__init__.py\", line 21, in <module>\n",
      "    from tensorflowjs import converters\n",
      "  File \"C:\\Python38\\lib\\site-packages\\tensorflowjs\\converters\\__init__.py\", line 21, in <module>\n",
      "    from tensorflowjs.converters.converter import convert\n",
      "  File \"C:\\Python38\\lib\\site-packages\\tensorflowjs\\converters\\converter.py\", line 37, in <module>\n",
      "    from tensorflowjs.converters import tf_saved_model_conversion_v2\n",
      "  File \"C:\\Python38\\lib\\site-packages\\tensorflowjs\\converters\\tf_saved_model_conversion_v2.py\", line 28, in <module>\n",
      "    import tensorflow_decision_forests\n",
      "ModuleNotFoundError: No module named 'tensorflow_decision_forests'\n"
     ]
    }
   ],
   "source": [
    "!tensorflowjs_converter --input_format keras './cnnDigitsModel.h5' './mnist-cnn_model'"
   ]
  }
 ],
 "metadata": {
  "kernelspec": {
   "display_name": "Python 3",
   "language": "python",
   "name": "python3"
  },
  "language_info": {
   "codemirror_mode": {
    "name": "ipython",
    "version": 3
   },
   "file_extension": ".py",
   "mimetype": "text/x-python",
   "name": "python",
   "nbconvert_exporter": "python",
   "pygments_lexer": "ipython3",
   "version": "3.8.2"
  }
 },
 "nbformat": 4,
 "nbformat_minor": 2
}
